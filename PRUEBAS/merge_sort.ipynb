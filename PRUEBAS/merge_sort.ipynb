{
  "nbformat": 4,
  "nbformat_minor": 0,
  "metadata": {
    "colab": {
      "name": "merge_sort.ipynb",
      "version": "0.3.2",
      "provenance": [],
      "collapsed_sections": [],
      "include_colab_link": true
    },
    "kernelspec": {
      "name": "python3",
      "display_name": "Python 3"
    }
  },
  "cells": [
    {
      "cell_type": "markdown",
      "metadata": {
        "id": "view-in-github",
        "colab_type": "text"
      },
      "source": [
        "<a href=\"https://colab.research.google.com/github/elcesi/03MAIR-Algortimos-de-optimizacion/blob/master/PRUEBAS/merge_sort.ipynb\" target=\"_parent\"><img src=\"https://colab.research.google.com/assets/colab-badge.svg\" alt=\"Open In Colab\"/></a>"
      ]
    },
    {
      "metadata": {
        "id": "wW8eR5GenfDK",
        "colab_type": "code",
        "colab": {}
      },
      "cell_type": "code",
      "source": [
        "def mergeSort(alist):\n",
        "  print(\"Splitting \",alist)\n",
        "  if len(alist)>1:\n",
        "    mid = len(alist)//2\n",
        "    lefthalf = alist[:mid]\n",
        "    righthalf = alist[mid:]\n",
        "    mergeSort(lefthalf)\n",
        "    mergeSort(righthalf)\n",
        "    i=0\n",
        "    j=0\n",
        "    k=0\n",
        "    while i < len(lefthalf) and j < len(righthalf):\n",
        "      if lefthalf[i] < righthalf[j]:\n",
        "        alist[k]=lefthalf[i]\n",
        "        i=i+1\n",
        "    else:\n",
        "      alist[k]=righthalf[j]\n",
        "      j=j+1\n",
        "      k=k+1\n",
        "    while i < len(lefthalf):\n",
        "      alist[k]=lefthalf[i]\n",
        "      i=i+1\n",
        "      k=k+1\n",
        "    while j < len(righthalf):\n",
        "      alist[k]=righthalf[j]\n",
        "      j=j+1\n",
        "      k=k+1\n",
        "  print(\"Merging \",alist)\n",
        "alist = [54,26,93,17,77,31,44,55,20]\n",
        "mergeSort(alist)\n",
        "print(alist)"
      ],
      "execution_count": 0,
      "outputs": []
    }
  ]
}