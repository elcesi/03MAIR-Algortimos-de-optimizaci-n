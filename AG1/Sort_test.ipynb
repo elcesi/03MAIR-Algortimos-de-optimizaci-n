{
  "nbformat": 4,
  "nbformat_minor": 0,
  "metadata": {
    "colab": {
      "name": "Sort_test.ipynb",
      "version": "0.3.2",
      "provenance": [],
      "include_colab_link": true
    },
    "kernelspec": {
      "name": "python3",
      "display_name": "Python 3"
    }
  },
  "cells": [
    {
      "cell_type": "markdown",
      "metadata": {
        "id": "view-in-github",
        "colab_type": "text"
      },
      "source": [
        "<a href=\"https://colab.research.google.com/github/elcesi/03MAIR-Algortimos-de-optimizacion/blob/master/AG1/Sort_test.ipynb\" target=\"_parent\"><img src=\"https://colab.research.google.com/assets/colab-badge.svg\" alt=\"Open In Colab\"/></a>"
      ]
    },
    {
      "metadata": {
        "id": "t7j9YC6ljh3a",
        "colab_type": "code",
        "outputId": "bd259ba4-5a18-416b-f8ef-94997c9b8e6c",
        "colab": {
          "base_uri": "https://localhost:8080/",
          "height": 130
        }
      },
      "cell_type": "code",
      "source": [
        "pip install"
      ],
      "execution_count": 0,
      "outputs": [
        {
          "output_type": "error",
          "ename": "SyntaxError",
          "evalue": "ignored",
          "traceback": [
            "\u001b[0;36m  File \u001b[0;32m\"<ipython-input-4-d22dd103b62f>\"\u001b[0;36m, line \u001b[0;32m1\u001b[0m\n\u001b[0;31m    pip install\u001b[0m\n\u001b[0m              ^\u001b[0m\n\u001b[0;31mSyntaxError\u001b[0m\u001b[0;31m:\u001b[0m invalid syntax\n"
          ]
        }
      ]
    },
    {
      "metadata": {
        "id": "DERlsvZ8kS1R",
        "colab_type": "code",
        "outputId": "b8c324b1-0f91-45bf-c761-da9604bda084",
        "colab": {
          "base_uri": "https://localhost:8080/",
          "height": 65
        }
      },
      "cell_type": "code",
      "source": [
        "!pip install"
      ],
      "execution_count": 0,
      "outputs": [
        {
          "output_type": "stream",
          "text": [
            "\u001b[31mERROR: You must give at least one requirement to install (see \"pip help install\")\u001b[0m\n"
          ],
          "name": "stdout"
        }
      ]
    },
    {
      "metadata": {
        "id": "ZYKEQjjWkxa8",
        "colab_type": "code",
        "outputId": "7e1982b9-0c0a-4c64-daf8-9519286c17bb",
        "colab": {
          "base_uri": "https://localhost:8080/",
          "height": 184
        }
      },
      "cell_type": "code",
      "source": [
        "!pip install sorting"
      ],
      "execution_count": 2,
      "outputs": [
        {
          "output_type": "stream",
          "text": [
            "Collecting sorting\n",
            "  Downloading https://files.pythonhosted.org/packages/5f/c8/2d2318aa6697f8771371bdfb27c12bff5437f5b2f323a11563f2a8bf4fdf/sorting-1.0.2.tar.gz\n",
            "Building wheels for collected packages: sorting\n",
            "  Building wheel for sorting (setup.py) ... \u001b[?25ldone\n",
            "\u001b[?25h  Stored in directory: /root/.cache/pip/wheels/1d/69/7d/afb45b857f9cd6d7927312839c0928f20284f476cb4265474e\n",
            "Successfully built sorting\n",
            "Installing collected packages: sorting\n",
            "Successfully installed sorting-1.0.2\n"
          ],
          "name": "stdout"
        }
      ]
    },
    {
      "metadata": {
        "id": "sbPN5ArrAI9B",
        "colab_type": "text"
      },
      "cell_type": "markdown",
      "source": [
        "Este es mi primer código en github"
      ]
    },
    {
      "metadata": {
        "id": "Hg3ns9Y6lAc5",
        "colab_type": "code",
        "colab": {
          "base_uri": "https://localhost:8080/",
          "height": 34
        },
        "outputId": "c65c840d-9e15-42d8-a309-ca80d1f7049f"
      },
      "cell_type": "code",
      "source": [
        "import sorting\n",
        "lista=[4,5,32,2,53,67,23]\n",
        "lista_ordenada=sorting.bubble(lista)\n",
        "print(lista_ordenada)"
      ],
      "execution_count": 4,
      "outputs": [
        {
          "output_type": "stream",
          "text": [
            "[2, 4, 5, 23, 32, 53, 67]\n"
          ],
          "name": "stdout"
        }
      ]
    }
  ]
}